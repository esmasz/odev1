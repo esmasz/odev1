{
  "nbformat": 4,
  "nbformat_minor": 0,
  "metadata": {
    "colab": {
      "name": "Untitled0.ipynb",
      "version": "0.3.2",
      "provenance": [],
      "include_colab_link": true
    },
    "kernelspec": {
      "name": "python3",
      "display_name": "Python 3"
    }
  },
  "cells": [
    {
      "cell_type": "markdown",
      "metadata": {
        "id": "view-in-github",
        "colab_type": "text"
      },
      "source": [
        "<a href=\"https://colab.research.google.com/github/esmasz/odev1/blob/master/Untitled0.ipynb\" target=\"_parent\"><img src=\"https://colab.research.google.com/assets/colab-badge.svg\" alt=\"Open In Colab\"/></a>"
      ]
    },
    {
      "metadata": {
        "id": "gEwGbprGD7kD",
        "colab_type": "code",
        "colab": {
          "base_uri": "https://localhost:8080/",
          "height": 51
        },
        "outputId": "fcd2fb9f-db2f-4977-fee2-ef04f9f736ec"
      },
      "cell_type": "code",
      "source": [
        "#pigeonhole\n",
        "# {1,2,3,...,24}  icerisinde toplamlari 25 olan 13 ikili sayi secildiginde\n",
        "#secilen sayilardan 2 tanesinin ayni olacagini ispatlayiniz.\n",
        "hole=0\n",
        "pigeon=13\n",
        "\n",
        "for i in range (1,25):\n",
        "    for j in range (1,25):\n",
        "        if j>i:\n",
        "            break\n",
        "        elif i+j==25:\n",
        "            hole = hole+1\n",
        "\n",
        "if pigeon>hole: \n",
        "    print (\"pigeon=\",pigeon, \"hole=\",hole,\"\\n'pigeon>hole '  two of the pairs selected according to the result are the same.\")"
      ],
      "execution_count": 3,
      "outputs": [
        {
          "output_type": "stream",
          "text": [
            "pigeon= 13 hole= 12 \n",
            "'pigeon>hole '  two of the pairs selected according to the result are the same.\n"
          ],
          "name": "stdout"
        }
      ]
    },
    {
      "metadata": {
        "id": "8LqM6YtaI8AB",
        "colab_type": "text"
      },
      "cell_type": "markdown",
      "source": [
        "\n",
        "\n",
        "pigeonhole güvercin yuvasi ilkesine göre; N ve k pozitif tamsayilar olsun ve N > k olmak uzere N nesne k kutuya yerlestirildiginde oyle bir kutu vardır ki o kutuda birden cok nesne bulunmak zorundadır. Bu aciklama dogrultusunda yazilan kod ve ilgili kodun guvercin yuvasi prensibine gore ispati verilmektedir.\n",
        "\n",
        "{1,2,3,...,24}  icerisinde toplamlari 25 olan 13 ikili sayi secildiginde\n",
        "          #secilen ikili sayilardan 2 tanesinin ayni olacagini ispatlayiniz.\n",
        "\n",
        "                 hole=0 # yuva sayisi\n",
        "                pigeon=13 #güvercin saiyisi\n",
        "                 for i in range (1,25): \n",
        "                 for j in range (1,25):\n",
        "                 if j>i: #listede secilen elemanlarin tekrarinin önlenmesi\n",
        "                   break\n",
        "                elif i+j==25: \n",
        "                  hole = hole+1\n",
        "            if pigeon>hole: # guvercin sayisi yuva sayisindan buyuk oldugunda mutlaka bir yuvada iki guvercin bulunur prensibine gore.\n",
        "            print (\"pigeon=\",pigeon, \"hole=\",hole,\"\\n'pigeon>hole '  two of the pairs selected according to the result are the same.\"\n",
        "            \n",
        " \n",
        " Ornek kapsamında 1,2,..,24 arasinda listelenen sayilarin arasindan birbirini tekrarlamayan ikili gruplar olusturulmus ve iclerinden 13 adet ikili secilmesi istenmistir.\n",
        "\n",
        "Gruplar: (1,24),(2,23),(3,22),...,(12,13) olmak uzere 12 adettir.Bu secilecek olan yuva sayisini temsil eder.\n",
        "\n",
        "secilecek olan 13 sayi yukarida listelenen kume icerisinden olmakla birlikte elimizde bulunan guvercin sayisini temsil eder. 12 adet sayı kumesinden 13 adet secilen eleman dogrultusunda bir elemandan iki tane secilmesinin muhakkak oldugu ispatlanmaktadir.\n",
        " "
      ]
    }
  ]
}